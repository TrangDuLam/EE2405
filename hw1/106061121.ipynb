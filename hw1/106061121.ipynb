{
 "metadata": {
  "language_info": {
   "codemirror_mode": {
    "name": "ipython",
    "version": 3
   },
   "file_extension": ".py",
   "mimetype": "text/x-python",
   "name": "python",
   "nbconvert_exporter": "python",
   "pygments_lexer": "ipython3",
   "version": "3.8.6-final"
  },
  "orig_nbformat": 2,
  "kernelspec": {
   "name": "python3",
   "display_name": "Python 3.8.6 64-bit",
   "metadata": {
    "interpreter": {
     "hash": "469bef1d9046da550475be75a0d02251237702c627afbfd44f5c23d5df9eab51"
    }
   }
  }
 },
 "nbformat": 4,
 "nbformat_minor": 2,
 "cells": [
  {
   "cell_type": "code",
   "execution_count": 1,
   "metadata": {},
   "outputs": [],
   "source": [
    "import csv\n",
    "import numpy as np"
   ]
  },
  {
   "cell_type": "code",
   "execution_count": 29,
   "metadata": {
    "tags": []
   },
   "outputs": [],
   "source": [
    "cwb_filename = '106061121.csv'\n",
    "data_id = []\n",
    "data_hud = []\n",
    "header = []\n",
    "with open(cwb_filename, newline='') as csvfile:\n",
    "  mycsv = csv.DictReader(csvfile)\n",
    "  header = mycsv.fieldnames\n",
    "  for row in mycsv :\n",
    "     data_id.append(row['station_id'])\n",
    "     data_hud.append(row['HUMD'])"
   ]
  },
  {
   "cell_type": "code",
   "execution_count": 30,
   "metadata": {},
   "outputs": [
    {
     "output_type": "execute_result",
     "data": {
      "text/plain": [
       "['C0X240', 'C0S990', 'C0E850', 'C0T9B0', 'C0G650']"
      ]
     },
     "metadata": {},
     "execution_count": 30
    }
   ],
   "source": [
    "data_id[0:5]"
   ]
  },
  {
   "cell_type": "code",
   "execution_count": 31,
   "metadata": {},
   "outputs": [],
   "source": [
    "data_hud = list(map(float, data_hud))"
   ]
  },
  {
   "cell_type": "code",
   "execution_count": 32,
   "metadata": {},
   "outputs": [
    {
     "output_type": "execute_result",
     "data": {
      "text/plain": [
       "[0.96, 0.84, 0.95, 0.86, 0.99, 0.99, 0.99, 0.83, 1.0, 0.9]"
      ]
     },
     "metadata": {},
     "execution_count": 32
    }
   ],
   "source": [
    "data_hud[0:10]"
   ]
  },
  {
   "cell_type": "code",
   "execution_count": 33,
   "metadata": {},
   "outputs": [],
   "source": [
    "data_id = np.array(data_id)\n",
    "data_hud = np.array(data_hud)"
   ]
  },
  {
   "cell_type": "code",
   "execution_count": 34,
   "metadata": {},
   "outputs": [
    {
     "output_type": "execute_result",
     "data": {
      "text/plain": [
       "numpy.float64"
      ]
     },
     "metadata": {},
     "execution_count": 34
    }
   ],
   "source": [
    "type(data_hud[0])"
   ]
  },
  {
   "cell_type": "code",
   "execution_count": 38,
   "metadata": {},
   "outputs": [],
   "source": [
    "data = np.column_stack((data_id, data_hud.astype(np.object)))"
   ]
  },
  {
   "cell_type": "code",
   "execution_count": 39,
   "metadata": {},
   "outputs": [
    {
     "output_type": "execute_result",
     "data": {
      "text/plain": [
       "array([['C0X240', 0.96],\n",
       "       ['C0S990', 0.84],\n",
       "       ['C0E850', 0.95],\n",
       "       ['C0T9B0', 0.86],\n",
       "       ['C0G650', 0.99],\n",
       "       ['C0K580', 0.99],\n",
       "       ['C0X050', 0.99],\n",
       "       ['CM0100', 0.83],\n",
       "       ['C0Z220', 1.0],\n",
       "       ['C0D560', 0.9]], dtype=object)"
      ]
     },
     "metadata": {},
     "execution_count": 39
    }
   ],
   "source": [
    "data[0:10]"
   ]
  },
  {
   "cell_type": "code",
   "execution_count": 40,
   "metadata": {},
   "outputs": [
    {
     "output_type": "execute_result",
     "data": {
      "text/plain": [
       "float"
      ]
     },
     "metadata": {},
     "execution_count": 40
    }
   ],
   "source": [
    "type(data[0, 1])"
   ]
  },
  {
   "cell_type": "code",
   "execution_count": 11,
   "metadata": {},
   "outputs": [
    {
     "output_type": "stream",
     "name": "stderr",
     "text": [
      "<ipython-input-11-e70ef73394fa>:3: DeprecationWarning: using a non-integer array as obj in delete will result in an error in the future\n  np.delete(data, i, 0)\n<ipython-input-11-e70ef73394fa>:3: FutureWarning: in the future negative indices will not be ignored by `numpy.delete`.\n  np.delete(data, i, 0)\n"
     ]
    }
   ],
   "source": [
    "for i in data[:, 1] :\n",
    "    if i == -99.000 or i == -999.000 :\n",
    "        np.delete(data, i, 0)"
   ]
  },
  {
   "cell_type": "code",
   "execution_count": 12,
   "metadata": {},
   "outputs": [
    {
     "output_type": "execute_result",
     "data": {
      "text/plain": [
       "array([['C0X240', 0.96],\n",
       "       ['C0S990', 0.84],\n",
       "       ['C0E850', 0.95],\n",
       "       ['C0T9B0', 0.86],\n",
       "       ['C0G650', 0.99]], dtype=object)"
      ]
     },
     "metadata": {},
     "execution_count": 12
    }
   ],
   "source": [
    "data[0:5]"
   ]
  },
  {
   "cell_type": "code",
   "execution_count": 13,
   "metadata": {},
   "outputs": [
    {
     "output_type": "execute_result",
     "data": {
      "text/plain": [
       "['station_id',\n",
       " 'obsTime',\n",
       " 'ELEV',\n",
       " 'WDIR',\n",
       " 'WDSD',\n",
       " 'TEMP',\n",
       " 'HUMD',\n",
       " 'PRES',\n",
       " 'SUN',\n",
       " 'H_24R',\n",
       " 'H_FX',\n",
       " 'H_XD',\n",
       " 'H_FXT',\n",
       " 'D_TX',\n",
       " 'D_TXT',\n",
       " 'D_TN',\n",
       " 'D_TNT']"
      ]
     },
     "metadata": {},
     "execution_count": 13
    }
   ],
   "source": [
    "header"
   ]
  },
  {
   "cell_type": "code",
   "execution_count": 14,
   "metadata": {},
   "outputs": [],
   "source": [
    "tar_val = list()\n",
    "tar = ['C0A880','C0F9A0','C0G640','C0R190','C0X260']\n",
    "\n"
   ]
  },
  {
   "cell_type": "code",
   "execution_count": 15,
   "metadata": {},
   "outputs": [
    {
     "output_type": "execute_result",
     "data": {
      "text/plain": [
       "array(['C0F9A0', 0.99], dtype=object)"
      ]
     },
     "metadata": {},
     "execution_count": 15
    }
   ],
   "source": [
    "np.select(data[:, 0] == 'C0F9A0', data)"
   ]
  },
  {
   "cell_type": "code",
   "execution_count": 16,
   "metadata": {},
   "outputs": [],
   "source": [
    "data0s = data[data[:, 0] == 'C0A880']"
   ]
  },
  {
   "cell_type": "code",
   "execution_count": 17,
   "metadata": {},
   "outputs": [
    {
     "output_type": "execute_result",
     "data": {
      "text/plain": [
       "array([['C0A880', 0.96],\n",
       "       ['C0A880', 0.96],\n",
       "       ['C0A880', 0.96],\n",
       "       ['C0A880', 0.96],\n",
       "       ['C0A880', 0.96],\n",
       "       ['C0A880', 0.96],\n",
       "       ['C0A880', 0.96],\n",
       "       ['C0A880', 0.95],\n",
       "       ['C0A880', 0.96],\n",
       "       ['C0A880', 0.95],\n",
       "       ['C0A880', 0.95],\n",
       "       ['C0A880', 0.93],\n",
       "       ['C0A880', 0.89],\n",
       "       ['C0A880', 0.9],\n",
       "       ['C0A880', 0.92],\n",
       "       ['C0A880', 0.94],\n",
       "       ['C0A880', 0.94],\n",
       "       ['C0A880', 0.94],\n",
       "       ['C0A880', 0.94],\n",
       "       ['C0A880', 0.91],\n",
       "       ['C0A880', 0.8],\n",
       "       ['C0A880', 0.78],\n",
       "       ['C0A880', 0.78],\n",
       "       ['C0A880', 0.77]], dtype=object)"
      ]
     },
     "metadata": {},
     "execution_count": 17
    }
   ],
   "source": [
    "data0s"
   ]
  },
  {
   "cell_type": "code",
   "execution_count": 18,
   "metadata": {},
   "outputs": [
    {
     "output_type": "execute_result",
     "data": {
      "text/plain": [
       "21.970000000000002"
      ]
     },
     "metadata": {},
     "execution_count": 18
    }
   ],
   "source": [
    "np.sum(data0s[:, 1])"
   ]
  },
  {
   "cell_type": "code",
   "execution_count": 21,
   "metadata": {},
   "outputs": [],
   "source": [
    "def find_sum(tar, data) :\n",
    "\n",
    "    sum = list()\n",
    "\n",
    "    for item in tar :\n",
    "        ds = data[data[:, 0] == item]\n",
    "        s = np.sum(ds[:, 1])\n",
    "        sum.append(s)\n",
    "\n",
    "    return sum\n"
   ]
  },
  {
   "cell_type": "code",
   "execution_count": 23,
   "metadata": {},
   "outputs": [],
   "source": [
    "sum_r = find_sum(tar, data)"
   ]
  },
  {
   "cell_type": "code",
   "execution_count": 27,
   "metadata": {},
   "outputs": [
    {
     "output_type": "execute_result",
     "data": {
      "text/plain": [
       "array([['C0A880', '21.970000000000002'],\n",
       "       ['C0F9A0', '21.28'],\n",
       "       ['C0G640', '20.04'],\n",
       "       ['C0R190', '18.51'],\n",
       "       ['C0X260', '20.51']], dtype='<U32')"
      ]
     },
     "metadata": {},
     "execution_count": 27
    }
   ],
   "source": [
    "result = np.column_stack((tar, sum_r))\n",
    "result"
   ]
  },
  {
   "cell_type": "code",
   "execution_count": null,
   "metadata": {},
   "outputs": [],
   "source": []
  }
 ]
}