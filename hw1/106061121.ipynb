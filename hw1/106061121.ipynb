{
 "metadata": {
  "language_info": {
   "codemirror_mode": {
    "name": "ipython",
    "version": 3
   },
   "file_extension": ".py",
   "mimetype": "text/x-python",
   "name": "python",
   "nbconvert_exporter": "python",
   "pygments_lexer": "ipython3",
   "version": "3.8.6-final"
  },
  "orig_nbformat": 2,
  "kernelspec": {
   "name": "python3",
   "display_name": "Python 3.8.6 64-bit",
   "metadata": {
    "interpreter": {
     "hash": "469bef1d9046da550475be75a0d02251237702c627afbfd44f5c23d5df9eab51"
    }
   }
  }
 },
 "nbformat": 4,
 "nbformat_minor": 2,
 "cells": [
  {
   "cell_type": "code",
   "execution_count": 43,
   "metadata": {},
   "outputs": [],
   "source": [
    "import csv\n",
    "import numpy as np"
   ]
  },
  {
   "cell_type": "code",
   "execution_count": 44,
   "metadata": {
    "tags": []
   },
   "outputs": [],
   "source": [
    "cwb_filename = '106061121.csv'\n",
    "data_id = []\n",
    "data_hud = []\n",
    "header = []\n",
    "with open(cwb_filename, newline='') as csvfile:\n",
    "  mycsv = csv.DictReader(csvfile)\n",
    "  header = mycsv.fieldnames\n",
    "  for row in mycsv :\n",
    "     data_id.append(row['station_id'])\n",
    "     data_hud.append(row['HUMD'])"
   ]
  },
  {
   "cell_type": "code",
   "execution_count": 45,
   "metadata": {},
   "outputs": [
    {
     "output_type": "execute_result",
     "data": {
      "text/plain": [
       "['C0X240', 'C0S990', 'C0E850', 'C0T9B0', 'C0G650']"
      ]
     },
     "metadata": {},
     "execution_count": 45
    }
   ],
   "source": [
    "data_id[0:5]"
   ]
  },
  {
   "cell_type": "code",
   "execution_count": 46,
   "metadata": {},
   "outputs": [],
   "source": [
    "data_hud = list(map(float, data_hud))"
   ]
  },
  {
   "cell_type": "code",
   "execution_count": 47,
   "metadata": {},
   "outputs": [
    {
     "output_type": "execute_result",
     "data": {
      "text/plain": [
       "[0.96, 0.84, 0.95, 0.86, 0.99, 0.99, 0.99, 0.83, 1.0, 0.9]"
      ]
     },
     "metadata": {},
     "execution_count": 47
    }
   ],
   "source": [
    "data_hud[0:10]"
   ]
  },
  {
   "cell_type": "code",
   "execution_count": 48,
   "metadata": {},
   "outputs": [],
   "source": [
    "data_id = np.array(data_id)\n",
    "data_hud = np.array(data_hud)"
   ]
  },
  {
   "cell_type": "code",
   "execution_count": 49,
   "metadata": {},
   "outputs": [
    {
     "output_type": "execute_result",
     "data": {
      "text/plain": [
       "numpy.float64"
      ]
     },
     "metadata": {},
     "execution_count": 49
    }
   ],
   "source": [
    "type(data_hud[0])"
   ]
  },
  {
   "cell_type": "code",
   "execution_count": 50,
   "metadata": {},
   "outputs": [],
   "source": [
    "data = np.column_stack((data_id, data_hud.astype(np.object)))"
   ]
  },
  {
   "cell_type": "code",
   "execution_count": 51,
   "metadata": {},
   "outputs": [
    {
     "output_type": "execute_result",
     "data": {
      "text/plain": [
       "array([['C0X240', 0.96],\n",
       "       ['C0S990', 0.84],\n",
       "       ['C0E850', 0.95],\n",
       "       ['C0T9B0', 0.86],\n",
       "       ['C0G650', 0.99],\n",
       "       ['C0K580', 0.99],\n",
       "       ['C0X050', 0.99],\n",
       "       ['CM0100', 0.83],\n",
       "       ['C0Z220', 1.0],\n",
       "       ['C0D560', 0.9]], dtype=object)"
      ]
     },
     "metadata": {},
     "execution_count": 51
    }
   ],
   "source": [
    "data[0:10]"
   ]
  },
  {
   "cell_type": "code",
   "execution_count": 52,
   "metadata": {},
   "outputs": [
    {
     "output_type": "execute_result",
     "data": {
      "text/plain": [
       "float"
      ]
     },
     "metadata": {},
     "execution_count": 52
    }
   ],
   "source": [
    "type(data[0, 1])"
   ]
  },
  {
   "cell_type": "code",
   "execution_count": 11,
   "metadata": {},
   "outputs": [],
   "source": [
    "for i in data[:, 1] :\n",
    "    if i == -99.000 or i == -999.000 :\n",
    "        np.delete(data, i, 0)"
   ]
  },
  {
   "cell_type": "code",
   "execution_count": 12,
   "metadata": {},
   "outputs": [
    {
     "output_type": "execute_result",
     "data": {
      "text/plain": [
       "array([['C0X240', 0.96],\n",
       "       ['C0S990', 0.84],\n",
       "       ['C0E850', 0.95],\n",
       "       ['C0T9B0', 0.86],\n",
       "       ['C0G650', 0.99]], dtype=object)"
      ]
     },
     "metadata": {},
     "execution_count": 12
    }
   ],
   "source": [
    "data[0:5]"
   ]
  },
  {
   "cell_type": "code",
   "execution_count": 13,
   "metadata": {},
   "outputs": [
    {
     "output_type": "execute_result",
     "data": {
      "text/plain": [
       "['station_id',\n",
       " 'obsTime',\n",
       " 'ELEV',\n",
       " 'WDIR',\n",
       " 'WDSD',\n",
       " 'TEMP',\n",
       " 'HUMD',\n",
       " 'PRES',\n",
       " 'SUN',\n",
       " 'H_24R',\n",
       " 'H_FX',\n",
       " 'H_XD',\n",
       " 'H_FXT',\n",
       " 'D_TX',\n",
       " 'D_TXT',\n",
       " 'D_TN',\n",
       " 'D_TNT']"
      ]
     },
     "metadata": {},
     "execution_count": 13
    }
   ],
   "source": [
    "header"
   ]
  },
  {
   "cell_type": "code",
   "execution_count": 19,
   "metadata": {},
   "outputs": [],
   "source": [
    "tar_val = list()\n",
    "tar = ['C0A880','C0F9A0','C0G640','C0R190','C0X260']\n",
    "\n"
   ]
  },
  {
   "cell_type": "code",
   "execution_count": 53,
   "metadata": {},
   "outputs": [
    {
     "output_type": "execute_result",
     "data": {
      "text/plain": [
       "array(['C0F9A0', 0.99], dtype=object)"
      ]
     },
     "metadata": {},
     "execution_count": 53
    }
   ],
   "source": [
    "np.select(data[:, 0] == 'C0F9A0', data)"
   ]
  },
  {
   "cell_type": "code",
   "execution_count": 54,
   "metadata": {},
   "outputs": [],
   "source": [
    "data0s = data[data[:, 0] == 'C0A880']"
   ]
  },
  {
   "cell_type": "code",
   "execution_count": 55,
   "metadata": {},
   "outputs": [
    {
     "output_type": "execute_result",
     "data": {
      "text/plain": [
       "array([['C0A880', 0.96],\n",
       "       ['C0A880', 0.96],\n",
       "       ['C0A880', 0.96],\n",
       "       ['C0A880', 0.96],\n",
       "       ['C0A880', 0.96],\n",
       "       ['C0A880', 0.96],\n",
       "       ['C0A880', 0.96],\n",
       "       ['C0A880', 0.95],\n",
       "       ['C0A880', 0.96],\n",
       "       ['C0A880', 0.95],\n",
       "       ['C0A880', 0.95],\n",
       "       ['C0A880', 0.93],\n",
       "       ['C0A880', 0.89],\n",
       "       ['C0A880', 0.9],\n",
       "       ['C0A880', 0.92],\n",
       "       ['C0A880', 0.94],\n",
       "       ['C0A880', 0.94],\n",
       "       ['C0A880', 0.94],\n",
       "       ['C0A880', 0.94],\n",
       "       ['C0A880', 0.91],\n",
       "       ['C0A880', 0.8],\n",
       "       ['C0A880', 0.78],\n",
       "       ['C0A880', 0.78],\n",
       "       ['C0A880', 0.77]], dtype=object)"
      ]
     },
     "metadata": {},
     "execution_count": 55
    }
   ],
   "source": [
    "data0s"
   ]
  },
  {
   "cell_type": "code",
   "execution_count": 31,
   "metadata": {},
   "outputs": [
    {
     "output_type": "execute_result",
     "data": {
      "text/plain": [
       "21.970000000000002"
      ]
     },
     "metadata": {},
     "execution_count": 31
    }
   ],
   "source": [
    "np.sum(data0s[:, 1])"
   ]
  },
  {
   "cell_type": "code",
   "execution_count": null,
   "metadata": {},
   "outputs": [],
   "source": []
  }
 ]
}